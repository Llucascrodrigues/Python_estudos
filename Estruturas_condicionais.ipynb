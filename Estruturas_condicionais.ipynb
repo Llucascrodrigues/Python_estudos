{
  "nbformat": 4,
  "nbformat_minor": 0,
  "metadata": {
    "colab": {
      "provenance": [],
      "authorship_tag": "ABX9TyMmwvAdygVkk3QlHpXQ6Iq+",
      "include_colab_link": true
    },
    "kernelspec": {
      "name": "python3",
      "display_name": "Python 3"
    },
    "language_info": {
      "name": "python"
    }
  },
  "cells": [
    {
      "cell_type": "markdown",
      "metadata": {
        "id": "view-in-github",
        "colab_type": "text"
      },
      "source": [
        "<a href=\"https://colab.research.google.com/github/Llucascrodrigues/Python_estudos/blob/master/Estruturas_condicionais.ipynb\" target=\"_parent\"><img src=\"https://colab.research.google.com/assets/colab-badge.svg\" alt=\"Open In Colab\"/></a>"
      ]
    },
    {
      "cell_type": "markdown",
      "source": [
        "#Estrutura\n",
        "Estruturas que nos possibilita executar instruções de acordo com a condição.\n",
        "\n",
        "SE a condição:\n",
        "\n",
        "intrução caso a condição seja verdadeira\n",
        "\n",
        "SENÃO\n",
        "executa outra instrução"
      ],
      "metadata": {
        "id": "Rb6MlEBmw-E1"
      }
    },
    {
      "cell_type": "markdown",
      "source": [
        "#IF e ELSE\n",
        "\n"
      ],
      "metadata": {
        "id": "mAUnlnjsxvYf"
      }
    },
    {
      "cell_type": "code",
      "execution_count": null,
      "metadata": {
        "colab": {
          "base_uri": "https://localhost:8080/"
        },
        "id": "F5gEB-gZtsgv",
        "outputId": "9110c62b-e588-4f74-fe50-3c1be0b82917"
      },
      "outputs": [
        {
          "output_type": "stream",
          "name": "stdout",
          "text": [
            "Digite sua idade 19\n",
            "Você pode ser preso\n"
          ]
        }
      ],
      "source": [
        "idade=int(input(\"Digite sua idade \"))\n",
        "if idade>=18:\n",
        "  print(\"Você já pode ser preso\")\n",
        "else:\n",
        "  print(\"menor de idade, febem\")"
      ]
    },
    {
      "cell_type": "markdown",
      "source": [
        "#Exercícios\n",
        "\n",
        "###01)\n",
        "Escreva um programa que peça à pessoa usuária para fornecer dois números e exibir o número maior"
      ],
      "metadata": {
        "id": "qF8R-Zkw1YXa"
      }
    },
    {
      "cell_type": "code",
      "source": [
        "x=input(\"escolhe um número misterioso \")\n",
        "y=input(\"outro número sem mistério \")\n",
        "\n",
        "if type(x) and type(y) is str:\n",
        "  x=float(x)\n",
        "  y=float(y)\n",
        "\n",
        "  if x>y:\n",
        "    print(\"o valor %.0f é maior que %.0f\" %(x, y))\n",
        "  elif x==y:\n",
        "    print(\"Os números são iguais\")\n",
        "  else:\n",
        "    print(\"o valor %.0f é maior que %.0f\" %(y, x))\n",
        "\n"
      ],
      "metadata": {
        "colab": {
          "base_uri": "https://localhost:8080/"
        },
        "id": "5v1dRJ4i1lqS",
        "outputId": "36165ca4-e391-432d-9397-1b31b722f9f9"
      },
      "execution_count": null,
      "outputs": [
        {
          "output_type": "stream",
          "name": "stdout",
          "text": [
            "escolhe um número misterioso 9\n",
            "outro número sem mistério 9\n",
            "são iguais\n"
          ]
        }
      ]
    },
    {
      "cell_type": "markdown",
      "source": [
        "###2)\n",
        "Escreva um programa que solicite o percentual de crescimento de produção de uma empresa e informe se houve um crescimento (porcentagem positiva) ou decrescimento (porcentagem negativa)."
      ],
      "metadata": {
        "id": "wqrV-Vsw3hW1"
      }
    },
    {
      "cell_type": "code",
      "source": [
        "pc=float(input(\"foi foi o percentual de crescimento? \"))\n",
        "if pc>0:\n",
        "  print(\"Está em crescimento \")\n",
        "else:\n",
        "  print(\"estamos em queda \")"
      ],
      "metadata": {
        "colab": {
          "base_uri": "https://localhost:8080/"
        },
        "id": "OA_DSMA63j0F",
        "outputId": "56cdebff-623e-4ea1-bc21-74ddd205cbee"
      },
      "execution_count": null,
      "outputs": [
        {
          "output_type": "stream",
          "name": "stdout",
          "text": [
            "foi foi o percentual de crescimento? -9\n",
            "estamos em queda \n"
          ]
        }
      ]
    },
    {
      "cell_type": "markdown",
      "source": [
        "###3)\n",
        "Escreva um programa que determine se uma letra fornecida pela pessoa usuária é uma vogal ou consoante."
      ],
      "metadata": {
        "id": "XJxIOp-x57Kz"
      }
    },
    {
      "cell_type": "code",
      "source": [
        "pala=input(\"digite uma letra: \")\n",
        "if pala==\"a\" or pala ==\"b\" or pala==\"c\" or pala==\"d\" or pala ==\"e\":\n",
        "  print(\"é vogal\")\n",
        "else:\n",
        "  print(\"é consoante\")"
      ],
      "metadata": {
        "colab": {
          "base_uri": "https://localhost:8080/"
        },
        "id": "uz85AGNW6Af6",
        "outputId": "c8cfabb7-b09b-4440-cb26-b2700be141a3"
      },
      "execution_count": null,
      "outputs": [
        {
          "output_type": "stream",
          "name": "stdout",
          "text": [
            "digite uma letra: a\n",
            "é vogal\n"
          ]
        }
      ]
    },
    {
      "cell_type": "markdown",
      "source": [
        "###4)\n",
        " Escreva um programa que leia valores médios de preços de um modelo de carro por 3 anos consecutivos e exiba o valor mais alto e mais baixo entre esses três anos."
      ],
      "metadata": {
        "id": "rUyXLPFC6vdl"
      }
    },
    {
      "cell_type": "code",
      "source": [
        "p1=2000\n",
        "p2=1000\n",
        "p3=5000\n",
        "\n",
        "if p1>p2 and p1>p3:\n",
        "  print(\"o valor mais alto é %d\" %(p1))\n",
        "elif p2>p1 and p2>p3:\n",
        "  print(\"o valor mais alto é %d\" %(p2))\n",
        "else:\n",
        "  print(\"o valor mais alto é %d\" %(p3))"
      ],
      "metadata": {
        "colab": {
          "base_uri": "https://localhost:8080/"
        },
        "id": "hNv3ABgK6zUN",
        "outputId": "efbf595f-ff68-48ec-c4b8-59b1899a5804"
      },
      "execution_count": null,
      "outputs": [
        {
          "output_type": "stream",
          "name": "stdout",
          "text": [
            "o valor mais alte é 5000\n"
          ]
        }
      ]
    },
    {
      "cell_type": "markdown",
      "source": [
        "5) Escreva um programa que pergunte sobre o preço de três produtos e indique qual é o produto mais barato para comprar."
      ],
      "metadata": {
        "id": "aBOUcpf264t6"
      }
    },
    {
      "cell_type": "code",
      "source": [
        "p1=float(input(\"digite o valor do produto \"))\n",
        "p2=float(input(\"digite o valor do produto 2 \"))\n",
        "p3=float(input(\"digite o valor do produto 3 \"))\n",
        "\n",
        "if p1<p2 and p1<p3:\n",
        "  print(\"o valor mais barato é %d reais\" %(p1))\n",
        "elif p2<p1 and p2<p3:\n",
        "  print(\"o valor mais barato é %d reais\" %(p2))\n",
        "else:\n",
        "  print(\"o valor mais barato é %d reais\" %(p3))"
      ],
      "metadata": {
        "colab": {
          "base_uri": "https://localhost:8080/"
        },
        "id": "8nqbFwJ18un5",
        "outputId": "66f674af-0010-4ad9-ac28-7748c9967f75"
      },
      "execution_count": null,
      "outputs": [
        {
          "output_type": "stream",
          "name": "stdout",
          "text": [
            "digite o valor do produto 8\n",
            "digite o valor do produto 2 9\n",
            "digite o valor do produto 3 10\n",
            "o valor mais barato é 8 reais\n"
          ]
        }
      ]
    },
    {
      "cell_type": "markdown",
      "source": [
        "6) Escreva um programa que leia três números e os exiba em ordem decrescente."
      ],
      "metadata": {
        "id": "lwzIy_3K66d_"
      }
    },
    {
      "cell_type": "code",
      "source": [
        "p1=2000\n",
        "p2=1000\n",
        "p3=5000\n",
        "\n",
        "if p1>p2>p3:\n",
        "  print(\"o valor em ordem decrescente é %d %d %d\" %(p1, p2, p3))\n",
        "elif p1>p3>p2:\n",
        "  print(\"o valor em ordem decrescente é %d %d %d\" %(p1, p3, p2))\n",
        "elif p2>p3>p1:\n",
        "  print(\"o valor em ordem decrescente é %d %d %d\" %(p2, p3, p1))\n",
        "elif p2>p1>p3:\n",
        "  print(\"o valor em ordem decrescente é %d %d %d\" %(p2, p1, p3))\n",
        "elif p3>p1>p2:\n",
        "  print(\"o valor em ordem decrescente é %d %d %d\" %(p3, p1, p2))\n",
        "elif p3>p2>p1:\n",
        "  print(\"o valor em ordem decrescente é %d %d %d\" %(p3, p2, p1))\n"
      ],
      "metadata": {
        "colab": {
          "base_uri": "https://localhost:8080/"
        },
        "id": "SLXJnXCM9Uak",
        "outputId": "1fad771b-b5e0-4d75-828b-2b37162a7f3b"
      },
      "execution_count": null,
      "outputs": [
        {
          "output_type": "stream",
          "name": "stdout",
          "text": [
            "o valor em ordem decrescente é 5000 2000 1000\n"
          ]
        }
      ]
    },
    {
      "cell_type": "markdown",
      "source": [
        "7) Escreva um programa que pergunte em qual turno a pessoa usuária estuda (\"manhã\", \"tarde\" ou \"noite\") e exiba a mensagem \"Bom Dia!\", \"Boa Tarde!\", \"Boa Noite!\", ou \"Valor Inválido!\", conforme o caso."
      ],
      "metadata": {
        "id": "3TlY52a969wU"
      }
    },
    {
      "cell_type": "code",
      "source": [
        "p=input(\"Em qual periodo você estuda? \")\n",
        "if p==\"manhã\":\n",
        "  print(\"bom dia fela\")\n",
        "elif p==\"tarde\":\n",
        "  print(\"Boa tarde\")\n",
        "elif p==\"noite\":\n",
        "  print(\"boa noite\")\n",
        "else:\n",
        "  print(\"vacilou\")"
      ],
      "metadata": {
        "colab": {
          "base_uri": "https://localhost:8080/"
        },
        "id": "e5fZAUjZFAS7",
        "outputId": "38d0ef58-ca8f-44c9-c69a-dcca6e1f430c"
      },
      "execution_count": null,
      "outputs": [
        {
          "output_type": "stream",
          "name": "stdout",
          "text": [
            "Em qual periodo você estuda? tarde\n",
            "Boa tarde\n"
          ]
        }
      ]
    },
    {
      "cell_type": "markdown",
      "source": [
        "8) Escreva um programa que peça um número inteiro à pessoa usuária e determine se ele é par ou ímpar. Dica: Você pode utilizar o operador módulo %."
      ],
      "metadata": {
        "id": "k2h0TXUu6-zT"
      }
    },
    {
      "cell_type": "code",
      "source": [
        "np=float(input(\"Digite um número \"))\n",
        "if np%2==0:\n",
        "  print(\"O número é par\")\n",
        "else:\n",
        "  print(\"o número é impar\")"
      ],
      "metadata": {
        "colab": {
          "base_uri": "https://localhost:8080/"
        },
        "id": "iWsn1g-7jWf7",
        "outputId": "05570f70-ce0c-41ef-ec2b-c9bab07c8c58"
      },
      "execution_count": null,
      "outputs": [
        {
          "output_type": "stream",
          "name": "stdout",
          "text": [
            "Digite um número 1\n",
            "o número é impar\n"
          ]
        }
      ]
    },
    {
      "cell_type": "markdown",
      "source": [
        "9) Escreva um programa que peça um número à pessoa usuária e informe se ele é inteiro ou decimal."
      ],
      "metadata": {
        "id": "mHL316Ok7AiG"
      }
    },
    {
      "cell_type": "code",
      "source": [
        "n=int(input(\"digite \"))\n",
        "if type(n)==float:\n",
        "  print(\"é um float\")\n",
        "elif type(n)==int:\n",
        "  print(\"é inteiro\")"
      ],
      "metadata": {
        "colab": {
          "base_uri": "https://localhost:8080/"
        },
        "id": "MUHgCxt5kPuB",
        "outputId": "ab87c1cf-229a-4e27-b237-00d31a430053"
      },
      "execution_count": null,
      "outputs": [
        {
          "output_type": "stream",
          "name": "stdout",
          "text": [
            "digite 1\n",
            "é inteiro\n"
          ]
        }
      ]
    },
    {
      "cell_type": "markdown",
      "source": [
        "##Momento dos projetos\n",
        "10) Um programa deve ser escrito para ler dois números e, em seguida, perguntar à pessoa usuária qual operação ele deseja realizar. O resultado da operação deve incluir informações sobre o número - se é par ou ímpar, positivo ou negativo e inteiro ou decimal."
      ],
      "metadata": {
        "id": "Kpkha98v7CYe"
      }
    },
    {
      "cell_type": "code",
      "source": [
        "n4=float(input(\"digite um número\"))\n",
        "n5=float(input(\"digite um número\"))\n",
        "op=input(\"qual operação quer fazer?\")\n",
        "\n",
        "if op==\"multiplicação\":\n",
        "  res=n4*n5\n",
        "elif op==\"soma\":\n",
        "  res=n4+n5\n",
        "elif op==\"subtração\":\n",
        "  res=n4-n5\n",
        "elif op==\"divisão\":\n",
        "  res=n4/n5\n",
        "else:\n",
        "  print(\"digitou errado parça\")\n",
        "\n",
        "if res%2==0:\n",
        "  print(\"o resultado %.f é par\" %(res))\n",
        "else:\n",
        "  print(\"o resultado %.f é ímpar\" %(res))"
      ],
      "metadata": {
        "colab": {
          "base_uri": "https://localhost:8080/"
        },
        "id": "l3nVoaoqly_l",
        "outputId": "c8d0d355-e234-40ee-8662-85ef0c56ce31"
      },
      "execution_count": null,
      "outputs": [
        {
          "output_type": "stream",
          "name": "stdout",
          "text": [
            "digite um número6\n",
            "digite um número6\n",
            "qual operação quer fazer?divisão\n",
            "o resultado 1 é ímpar\n"
          ]
        }
      ]
    },
    {
      "cell_type": "markdown",
      "source": [
        "11) Escreva um programa que peça à pessoa usuária três números que representam os lados de um triângulo. O programa deve informar se os valores podem ser utilizados para formar um triângulo e, caso afirmativo, se ele é equilátero, isósceles ou escaleno. Tenha em mente algumas dicas:\n",
        "\n",
        "* Três lados formam um triângulo quando a soma de quaisquer dois lados for maior que o terceiro;\n",
        "* Triângulo Equilátero: três lados iguais;\n",
        "* Triângulo Isósceles: quaisquer dois lados iguais;\n",
        "* Triângulo Escaleno: três lados diferentes.\n",
        "\n",
        "\n",
        "\n"
      ],
      "metadata": {
        "id": "Ksu4u5yM7HNM"
      }
    },
    {
      "cell_type": "code",
      "source": [
        "l1=float(input(\"me dê quanto mede o lado do triangulo \"))\n",
        "l2=float(input(\"me dê quanto mede o lado do triangulo \"))\n",
        "l3=float(input(\"me dê quanto mede o lado do triangulo \"))\n",
        "if l1==l2==l3:\n",
        "  print(\"o triângulo é equilátero \")\n",
        "elif l1==l2 or l1==l3 or l2==l3:\n",
        "  print(\"o triângulo é isósceles\")\n",
        "else:\n",
        "  print(\"O triângulo é escaleno\")"
      ],
      "metadata": {
        "colab": {
          "base_uri": "https://localhost:8080/"
        },
        "id": "Fx45bXN-ny_D",
        "outputId": "9c98a9d5-46ec-4799-867c-b6e12e48e4b3"
      },
      "execution_count": null,
      "outputs": [
        {
          "output_type": "stream",
          "name": "stdout",
          "text": [
            "me dê quanto mede o lado do triangulo 1\n",
            "me dê quanto mede o lado do triangulo 2\n",
            "me dê quanto mede o lado do triangulo 3\n",
            "O triângulo é escaleno\n"
          ]
        }
      ]
    },
    {
      "cell_type": "markdown",
      "source": [
        "12) Um estabelecimento está vendendo combustíveis com descontos variados. Para o etanol, se a quantidade comprada for até 15 litros, o desconto será de 2% por litro. Caso contrário, será de 4% por litro. Para o diesel, se a quantidade comprada for até 15 litros, o desconto será de 3% por litro. Caso contrário, será de 5% por litro. O preço do litro de diesel é R$ 2,00 e o preço do litro de etanol é R$ 1,70. Escreva um programa que leia a quantidade de litros vendidos e o tipo de combustível (E para etanol e D para diesel) e calcule o valor a ser pago pelo cliente. Tenha em mente algumas dicas:\n",
        "\n",
        "* O do valor do desconto será a multiplicação entre preço do litro, quantidade de litros e o valor do desconto.\n",
        "* O valor a ser pago por um cliente será o resultado da multiplicação do preço do litro pela quantidade de litros menos o valor de desconto resultante do cálculo."
      ],
      "metadata": {
        "id": "mdUm-UZf7Ta4"
      }
    },
    {
      "cell_type": "code",
      "source": [
        "litr=float(input(\"quantos litros abasteceu? \"))\n",
        "tipo=input(\"Qual combustivel? \")\n",
        "\n",
        "if tipo==\"etanol\":\n",
        "  if litr<=15:\n",
        "    preço=litr*1.7-litr*0.02\n",
        "  else:\n",
        "    preço=litr*1.7-litr*0.04\n",
        "elif tipo==\"diesel\":\n",
        "  if litr<=15:\n",
        "    preço=litr*2-litr*0.03\n",
        "  else:\n",
        "    preço=litr*2-litr*0.05\n",
        "\n",
        "print(\"o valor a ser pago é de %.2f reais\"%(preço))"
      ],
      "metadata": {
        "colab": {
          "base_uri": "https://localhost:8080/"
        },
        "id": "i7XGiqeL_AS2",
        "outputId": "e784e4a7-3877-4720-ca57-d3d178648e59"
      },
      "execution_count": null,
      "outputs": [
        {
          "output_type": "stream",
          "name": "stdout",
          "text": [
            "quantos litros abasteceu? 16\n",
            "Qual combustivel? etanol\n",
            "o valor a ser pago é de 26.56 reais\n"
          ]
        }
      ]
    },
    {
      "cell_type": "markdown",
      "source": [
        "13) Em uma empresa de venda de imóveis você precisa criar um código que analise os dados de vendas anuais para ajudar a diretoria na tomada de decisão. O código precisa coletar os dados de quantidade de venda durante os anos de 2022 e 2023 e fazer um cálculo de variação percentual. A partir do valor da variação, deve ser enviada às seguintes sugestões:\n",
        "\n",
        "* Para variação acima de 20%: bonificação para o time de vendas.\n",
        "* Para variação entre 2% e 20%: pequena bonificação para time de vendas.\n",
        "* Para variação entre 2% e -10%: planejamento de políticas de incentivo às vendas.\n",
        "* Para bonificações abaixo de -10%: corte de gastos."
      ],
      "metadata": {
        "id": "k62suVxV7aa9"
      }
    },
    {
      "cell_type": "code",
      "source": [
        "q_v1=float(input(\"Quantidade de venda de 2022 \"))\n",
        "q_v2=float(input(\"quantidade de vendas de 2023 \"))\n",
        "porc=q_v2/q_v1\n",
        "\n",
        "\n",
        "if porc>1.2:\n",
        "  print(\"bonificação para o time de vendas.\")\n",
        "elif porc>1.02 and porc<=1.2:\n",
        "  print(\"pequena bonificação para time de vendas.\")\n",
        "elif porc<=1.02 and porc>=0.90:\n",
        "  print(\"planejamento de políticas de incentivo às vendas\")\n",
        "elif porc<0.90:\n",
        "  print(\"corte de gastos\")"
      ],
      "metadata": {
        "colab": {
          "base_uri": "https://localhost:8080/"
        },
        "id": "mRd5Dp98BusM",
        "outputId": "1c00d4d1-9b7f-4d7e-e285-d1a6e3a20d60"
      },
      "execution_count": null,
      "outputs": [
        {
          "output_type": "stream",
          "name": "stdout",
          "text": [
            "Quantidade de venda de 2022 100\n",
            "quantidade de vendas de 2023 80\n",
            "corte de gastos\n"
          ]
        }
      ]
    }
  ]
}