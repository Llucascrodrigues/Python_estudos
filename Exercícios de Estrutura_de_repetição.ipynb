{
  "nbformat": 4,
  "nbformat_minor": 0,
  "metadata": {
    "colab": {
      "provenance": [],
      "authorship_tag": "ABX9TyPKy+UKH7PTXJ6My8RnZuF2",
      "include_colab_link": true
    },
    "kernelspec": {
      "name": "python3",
      "display_name": "Python 3"
    },
    "language_info": {
      "name": "python"
    }
  },
  "cells": [
    {
      "cell_type": "markdown",
      "metadata": {
        "id": "view-in-github",
        "colab_type": "text"
      },
      "source": [
        "<a href=\"https://colab.research.google.com/github/Llucascrodrigues/Python_estudos/blob/master/Exerc%C3%ADcios%20de%20Estrutura_de_repeti%C3%A7%C3%A3o.ipynb\" target=\"_parent\"><img src=\"https://colab.research.google.com/assets/colab-badge.svg\" alt=\"Open In Colab\"/></a>"
      ]
    },
    {
      "cell_type": "markdown",
      "source": [
        "#WHILE\n",
        "Repete até que a condição seja não seja verdadeira\n",
        "\n",
        "enquanto a condição for verdadeira: faça tal coisa\n"
      ],
      "metadata": {
        "id": "nD1FWcx5FJF8"
      }
    },
    {
      "cell_type": "code",
      "execution_count": null,
      "metadata": {
        "colab": {
          "base_uri": "https://localhost:8080/"
        },
        "id": "tH6lU1hbErLe",
        "outputId": "074381c7-9769-47aa-8522-6b291122df42"
      },
      "outputs": [
        {
          "output_type": "stream",
          "name": "stdout",
          "text": [
            "1\n",
            "2\n",
            "3\n",
            "4\n",
            "5\n",
            "6\n",
            "7\n",
            "8\n",
            "9\n",
            "10\n"
          ]
        }
      ],
      "source": [
        "#contador de 1 a 10 e que mostre os numeros\n",
        "contador=1\n",
        "while contador<=10:\n",
        "  print(contador)\n",
        "  contador=contador+1"
      ]
    },
    {
      "cell_type": "markdown",
      "source": [
        "#FOR\n",
        "Funciona sob interação de um conjunto de elementos\n",
        "\n",
        "fica repetindo, lê e executa elemento por elemento e vai rotacionando\n",
        "\n",
        "for elemento in conjuto: rode tais comandos\n",
        "\n",
        "o elemento vai ser atribuido nos conjuntos\n",
        "\n",
        "##range()\n",
        "é uma função\n",
        "range(inicio,fim,passo)"
      ],
      "metadata": {
        "id": "mx8ovXPUG_y0"
      }
    },
    {
      "cell_type": "code",
      "source": [
        "#contador de  a 0 usando o for\n",
        "for contador in range(1,11):\n",
        "  print(contador)\n"
      ],
      "metadata": {
        "colab": {
          "base_uri": "https://localhost:8080/"
        },
        "id": "Y4kNVdX1ICUW",
        "outputId": "28a07d5e-ebba-4cfd-c9ea-2affbe26ee70"
      },
      "execution_count": null,
      "outputs": [
        {
          "output_type": "stream",
          "name": "stdout",
          "text": [
            "1\n",
            "2\n",
            "3\n",
            "4\n",
            "5\n",
            "6\n",
            "7\n",
            "8\n",
            "9\n",
            "10\n"
          ]
        }
      ]
    },
    {
      "cell_type": "markdown",
      "source": [
        "Ao trabalharmos com laços, conseguimos controlar o fluxo de execuções dentro do bloco de código, permitindo manipular a execução dos laços. O continue e o break são os comandos de controle que podemos executar com for e while."
      ],
      "metadata": {
        "id": "pUmu4MBOJClu"
      }
    },
    {
      "cell_type": "markdown",
      "source": [
        "#Exercícios\n",
        "1) Escreva um programa que peça dois números inteiros e imprima todos os números inteiros entre eles."
      ],
      "metadata": {
        "id": "-cAWdOOLJzOV"
      }
    },
    {
      "cell_type": "code",
      "source": [
        "r1=int(input(\"digite um número \"))\n",
        "r2=int(input(\"digite outro numero \"))\n",
        "for n in range(r1,r2):\n",
        "  print(n)\n"
      ],
      "metadata": {
        "colab": {
          "base_uri": "https://localhost:8080/"
        },
        "id": "rkkPmfcvlPFm",
        "outputId": "dc8c3ca5-2583-4512-f6f3-1f6f69b7652a"
      },
      "execution_count": null,
      "outputs": [
        {
          "output_type": "stream",
          "name": "stdout",
          "text": [
            "digite um número 2\n",
            "digite outro numero 9\n",
            "2\n",
            "3\n",
            "4\n",
            "5\n",
            "6\n",
            "7\n",
            "8\n"
          ]
        }
      ]
    },
    {
      "cell_type": "markdown",
      "source": [
        "2) Escreva um programa para calcular quantos dias levará para a colônia de uma bactéria A ultrapassar ou igualar a colônia de uma bactéria B, com base nas taxas de crescimento de 3% e 1,5% respectivamente. Considere que a colônia A inicia com 4 elementos e a B com 10."
      ],
      "metadata": {
        "id": "eh0xKiwuJ4On"
      }
    },
    {
      "cell_type": "code",
      "source": [
        "dias=0\n",
        "bac_a=4\n",
        "bac_b=10\n",
        "\n",
        "while bac_a != bac_b:\n",
        "  dias=dias+1\n",
        "  bac_a=4+3*dias\n",
        "  bac_b=10+1.5*dias\n",
        "\n",
        "print(\"Foram %d dias\"%(dias))"
      ],
      "metadata": {
        "colab": {
          "base_uri": "https://localhost:8080/"
        },
        "id": "pCPKYorKmGiI",
        "outputId": "be30dcbb-940e-4f01-8176-1b284360af3d"
      },
      "execution_count": null,
      "outputs": [
        {
          "output_type": "stream",
          "name": "stdout",
          "text": [
            "Foram 4 dias\n"
          ]
        }
      ]
    },
    {
      "cell_type": "markdown",
      "source": [
        "3) Para tratar uma quantidade de 15 dados de avaliações de pessoas usuárias de um serviço da empresa, precisamos verificar se as notas são válidas. Então, escreva um programa que vai receber a nota de 0 a 5 de todos os dados e verificar se é um valor válido. Caso seja inserido uma nota acima de 5 ou abaixo de 0, repita até que a pessoa usuária insira um valor válido."
      ],
      "metadata": {
        "id": "3IWaTb92J5ZM"
      }
    },
    {
      "cell_type": "code",
      "source": [
        "notas=0\n",
        "while notas<=15:\n",
        "  valor=int(input(\"Digite \"))\n",
        "  if valor>5 or valor<0:\n",
        "    notas=notas\n",
        "    print(\"VALOR INVÁLIDO, digite novamente \")\n",
        "  else:\n",
        "    notas=notas+1"
      ],
      "metadata": {
        "colab": {
          "base_uri": "https://localhost:8080/"
        },
        "id": "cWALHz_6tgw5",
        "outputId": "eb23cd3a-18fd-4902-c166-d93524203864"
      },
      "execution_count": null,
      "outputs": [
        {
          "name": "stdout",
          "output_type": "stream",
          "text": [
            "Digite 1\n",
            "Digite 2\n",
            "Digite 3\n",
            "Digite 4\n",
            "Digite 5\n",
            "Digite 5\n",
            "Digite 5\n",
            "Digite 5\n",
            "Digite 5\n",
            "Digite 5\n",
            "Digite 5\n",
            "Digite 5\n",
            "Digite 5\n",
            "Digite 5\n",
            "Digite 9\n",
            "digite novamente \n",
            "Digite 9\n",
            "digite novamente \n",
            "Digite 9\n",
            "digite novamente \n",
            "Digite 5\n",
            "Digite 5\n"
          ]
        }
      ]
    },
    {
      "cell_type": "markdown",
      "source": [
        "4) Desenvolva um programa que leia um conjunto indeterminado de temperaturas em Celsius e informe a média delas. A leitura deve ser encerrada ao ser enviado o valor -273°C."
      ],
      "metadata": {
        "id": "JVGMVwbaJ6jn"
      }
    },
    {
      "cell_type": "code",
      "source": [
        "temperatura=0\n",
        "while temperatura !=-273:\n",
        "  T=int(input(\"Digite a temperatura \"))\n",
        "  temperatura=T"
      ],
      "metadata": {
        "colab": {
          "base_uri": "https://localhost:8080/"
        },
        "id": "Bju6mMQNvo1C",
        "outputId": "7bf70a1c-9887-40dd-b35e-ecbb7eddaa7a"
      },
      "execution_count": null,
      "outputs": [
        {
          "name": "stdout",
          "output_type": "stream",
          "text": [
            "Digite a temperatura 2\n",
            "Digite a temperatura 6\n",
            "Digite a temperatura 9\n",
            "Digite a temperatura 7\n",
            "Digite a temperatura 200\n",
            "Digite a temperatura -200\n",
            "Digite a temperatura -273\n"
          ]
        }
      ]
    },
    {
      "cell_type": "markdown",
      "source": [
        "5) Escreva um programa que calcule o fatorial de um número inteiro fornecido pela pessoa usuária. Lembrando que o fatorial de um número inteiro é a multiplicação desse número por todos os seus antecessores até o número 1. Por exemplo, o fatorial de 5 é 5 x 4 x 3 x 2 x 1 = 120."
      ],
      "metadata": {
        "id": "2y1MIPm5J8No"
      }
    },
    {
      "cell_type": "code",
      "source": [
        "x=int(input(\"digite \"))\n",
        "valor=1\n",
        "contador=1\n",
        "while contador<=x:\n",
        "  valor=valor*contador\n",
        "  contador=contador+1\n",
        "\n",
        "print(valor)\n"
      ],
      "metadata": {
        "colab": {
          "base_uri": "https://localhost:8080/"
        },
        "id": "R-PSlOE0wfHL",
        "outputId": "06d4b194-6887-4374-b4fd-6827f6b29634"
      },
      "execution_count": null,
      "outputs": [
        {
          "output_type": "stream",
          "name": "stdout",
          "text": [
            "digite 6\n",
            "720\n"
          ]
        }
      ]
    },
    {
      "cell_type": "markdown",
      "source": [
        "##Momento dos projetos\n",
        "6) Escreva um programa que gere a tabuada de um número inteiro de 1 a 10, de acordo com a escolha da pessoa usuária. Como exemplo, para o número 2, a tabuada deve ser mostrada no seguinte formato:\n",
        "\n",
        "2x1=1\n",
        "\n",
        "2x2=4\n",
        "\n",
        "[...]"
      ],
      "metadata": {
        "id": "OCITM8hXJ9sJ"
      }
    },
    {
      "cell_type": "code",
      "source": [
        "for primeiro in range(1,11):\n",
        "  for segundo in range(1,11):\n",
        "    resultado=primeiro*segundo\n",
        "    print(\"%d x %d = %d\"%(primeiro,segundo,resultado))"
      ],
      "metadata": {
        "colab": {
          "base_uri": "https://localhost:8080/"
        },
        "id": "p7cFHrrgUPhP",
        "outputId": "4f6e0f3d-21a4-4adf-80dd-1d3fbf666064"
      },
      "execution_count": 3,
      "outputs": [
        {
          "output_type": "stream",
          "name": "stdout",
          "text": [
            "1 x 1 = 1\n",
            "1 x 2 = 2\n",
            "1 x 3 = 3\n",
            "1 x 4 = 4\n",
            "1 x 5 = 5\n",
            "1 x 6 = 6\n",
            "1 x 7 = 7\n",
            "1 x 8 = 8\n",
            "1 x 9 = 9\n",
            "1 x 10 = 10\n",
            "2 x 1 = 2\n",
            "2 x 2 = 4\n",
            "2 x 3 = 6\n",
            "2 x 4 = 8\n",
            "2 x 5 = 10\n",
            "2 x 6 = 12\n",
            "2 x 7 = 14\n",
            "2 x 8 = 16\n",
            "2 x 9 = 18\n",
            "2 x 10 = 20\n",
            "3 x 1 = 3\n",
            "3 x 2 = 6\n",
            "3 x 3 = 9\n",
            "3 x 4 = 12\n",
            "3 x 5 = 15\n",
            "3 x 6 = 18\n",
            "3 x 7 = 21\n",
            "3 x 8 = 24\n",
            "3 x 9 = 27\n",
            "3 x 10 = 30\n",
            "4 x 1 = 4\n",
            "4 x 2 = 8\n",
            "4 x 3 = 12\n",
            "4 x 4 = 16\n",
            "4 x 5 = 20\n",
            "4 x 6 = 24\n",
            "4 x 7 = 28\n",
            "4 x 8 = 32\n",
            "4 x 9 = 36\n",
            "4 x 10 = 40\n",
            "5 x 1 = 5\n",
            "5 x 2 = 10\n",
            "5 x 3 = 15\n",
            "5 x 4 = 20\n",
            "5 x 5 = 25\n",
            "5 x 6 = 30\n",
            "5 x 7 = 35\n",
            "5 x 8 = 40\n",
            "5 x 9 = 45\n",
            "5 x 10 = 50\n",
            "6 x 1 = 6\n",
            "6 x 2 = 12\n",
            "6 x 3 = 18\n",
            "6 x 4 = 24\n",
            "6 x 5 = 30\n",
            "6 x 6 = 36\n",
            "6 x 7 = 42\n",
            "6 x 8 = 48\n",
            "6 x 9 = 54\n",
            "6 x 10 = 60\n",
            "7 x 1 = 7\n",
            "7 x 2 = 14\n",
            "7 x 3 = 21\n",
            "7 x 4 = 28\n",
            "7 x 5 = 35\n",
            "7 x 6 = 42\n",
            "7 x 7 = 49\n",
            "7 x 8 = 56\n",
            "7 x 9 = 63\n",
            "7 x 10 = 70\n",
            "8 x 1 = 8\n",
            "8 x 2 = 16\n",
            "8 x 3 = 24\n",
            "8 x 4 = 32\n",
            "8 x 5 = 40\n",
            "8 x 6 = 48\n",
            "8 x 7 = 56\n",
            "8 x 8 = 64\n",
            "8 x 9 = 72\n",
            "8 x 10 = 80\n",
            "9 x 1 = 9\n",
            "9 x 2 = 18\n",
            "9 x 3 = 27\n",
            "9 x 4 = 36\n",
            "9 x 5 = 45\n",
            "9 x 6 = 54\n",
            "9 x 7 = 63\n",
            "9 x 8 = 72\n",
            "9 x 9 = 81\n",
            "9 x 10 = 90\n",
            "10 x 1 = 10\n",
            "10 x 2 = 20\n",
            "10 x 3 = 30\n",
            "10 x 4 = 40\n",
            "10 x 5 = 50\n",
            "10 x 6 = 60\n",
            "10 x 7 = 70\n",
            "10 x 8 = 80\n",
            "10 x 9 = 90\n",
            "10 x 10 = 100\n"
          ]
        }
      ]
    },
    {
      "cell_type": "markdown",
      "source": [
        "7) Os números primos possuem várias aplicações dentro da Ciência de Dados em criptografia e segurança, por exemplo. Um número primo é aquele que é divisível apenas por um e por ele mesmo. Assim, faça um programa que peça um número inteiro e determine se ele é ou não um número primo."
      ],
      "metadata": {
        "id": "DLZXJvekKKSz"
      }
    },
    {
      "cell_type": "code",
      "source": [
        "num=int(input(\"digite um número \"))\n",
        "contador=0\n",
        "for n in range(1,num+1):\n",
        "  if num%n==0:\n",
        "\n",
        "    contador=1+contador\n",
        "    #print(contador)\n",
        "\n",
        "if contador<=2 or contador==1:\n",
        "  print(\"número %d é primo \"%(num))\n",
        "else:\n",
        "  print(\"O número %d não é primo \"%(num))\n"
      ],
      "metadata": {
        "colab": {
          "base_uri": "https://localhost:8080/"
        },
        "id": "-yCgdwRTVK0J",
        "outputId": "8191c83d-608b-4907-94f0-5e7d8a94110a"
      },
      "execution_count": 20,
      "outputs": [
        {
          "output_type": "stream",
          "name": "stdout",
          "text": [
            "digite um número 13\n",
            "número 13 é primo \n"
          ]
        }
      ]
    },
    {
      "cell_type": "markdown",
      "source": [
        "8) Vamos entender a distribuição de idades de pensionistas de uma empresa de previdência. Escreva um programa que leia as idades de uma quantidade não informada de clientes e mostre a distribuição em intervalos de [0-25], [26-50], [51-75] e [76-100]. Encerre a entrada de dados com um número negativo."
      ],
      "metadata": {
        "id": "sf37lJhQKLEM"
      }
    },
    {
      "cell_type": "code",
      "source": [
        "i1=0\n",
        "i2=0\n",
        "i3=0\n",
        "i4=0\n",
        "num=1\n",
        "while num>0:\n",
        "  num=int(input(\"Digite a idade \"))\n",
        "  if num <=24 and num>0:\n",
        "    i1=i1+1\n",
        "  elif num<=50 and num>25:\n",
        "    i2=i2+1\n",
        "  elif num<=75 and num>50:\n",
        "    i3=i3+1\n",
        "  elif num<=100 and num>75:\n",
        "    i4=i4+1\n",
        "\n",
        "print(i1)\n",
        "print(i2)\n",
        "print(i3)\n",
        "print(i4)"
      ],
      "metadata": {
        "colab": {
          "base_uri": "https://localhost:8080/"
        },
        "id": "i9ofQ_y6ZRhJ",
        "outputId": "772da649-73ae-4386-849a-92793771ad9b"
      },
      "execution_count": 25,
      "outputs": [
        {
          "output_type": "stream",
          "name": "stdout",
          "text": [
            "Digite a idade 26\n",
            "Digite a idade 26\n",
            "Digite a idade 26\n",
            "Digite a idade -1\n",
            "0\n",
            "3\n",
            "0\n",
            "0\n"
          ]
        }
      ]
    },
    {
      "cell_type": "markdown",
      "source": [
        "9) Em uma eleição para gerência em uma empresa com 20 pessoas colaboradoras, existem quatro candidatos(as). Escreva um programa que calcule o(a) vencedor(a) da eleição. A votação ocorreu da seguinte maneira:\n",
        "\n",
        "* Cada colaborador(a) votou em uma das quatro pessoas candidatas (que representamos pelos números 1, 2, 3 e 4).\n",
        "* Também foram contabilizados os votos nulos (representados pelo número 5) e os votos em branco (representados pelo número 6).\n",
        "\n",
        "Ao final da votação, o programa deve exibir o número total de votos para cada candidato(a), os nulos e os votos em branco. Além disso, deve calcular e exibir a porcentagem de votos nulos em relação ao total de votos e a porcentagem de votos em branco em relação ao total de votos."
      ],
      "metadata": {
        "id": "ZpThIo9nKMin"
      }
    },
    {
      "cell_type": "code",
      "source": [
        "v1=0\n",
        "v2=0\n",
        "v3=0\n",
        "v4=0\n",
        "v5=0\n",
        "v6=0\n",
        "\n",
        "for n in range(0,20):\n",
        "  voto=int(input(\"Vota em quem? \"))\n",
        "  if voto==1:\n",
        "    v1=v1+1\n",
        "  elif voto == 2:\n",
        "    v2=v2+1\n",
        "  elif voto == 3:\n",
        "    v3=v3+1\n",
        "  elif voto == 4:\n",
        "    v4=v4+1\n",
        "  elif voto == 5:\n",
        "    v5=v5+1\n",
        "  elif voto == 6:\n",
        "    v6=v6+1\n",
        "\n",
        "\n",
        "if v1>v2 and v1>v3 and v1>v4:\n",
        "  vencedor=v1\n",
        "  porc=(v1/20)*100\n",
        "  porc_nu=(v5/20)*100\n",
        "  porc_bra=(v6/20)*100\n",
        "  print(\"cadidato 1 ganhou com %d por cento de votos validos, %d por cento de votos nulos e %d por cento de votos em branco\"%(porc,porc_nu,porc_bra))\n",
        "elif v2>v1 and v2>v3 and v2>v4:\n",
        "  vencedor=v21\n",
        "  porc=(v1/20)*100\n",
        "  porc_nu=(v5/20)*100\n",
        "  porc_bra=(v6/20)*100\n",
        "  print(\"cadidato 1 ganhou com %d por cento de votos validos, %d por cento de votos nulos e %d por cento de votos em branco\"%(porc,porc_nu,porc_bra))\n",
        "elif v3>v1 and v3>v2 and v3>v4:\n",
        "  vencedor=v3\n",
        "  porc=(v1/20)*100\n",
        "  porc_nu=(v5/20)*100\n",
        "  porc_bra=(v6/20)*100\n",
        "  print(\"cadidato 1 ganhou com %d por cento de votos validos, %d por cento de votos nulos e %d por cento de votos em branco\"%(porc,porc_nu,porc_bra))\n",
        "elif v4>v2 and v4>v3 and v4>v1:\n",
        "  vencedor=v4\n",
        "  porc=(v1/20)*100\n",
        "  porc_nu=(v5/20)*100\n",
        "  porc_bra=(v6/20)*100\n",
        "  print(\"cadidato 1 ganhou com %d por cento de votos validos, %d por cento de votos nulos e %d por cento de votos em branco\"%(porc,porc_nu,porc_bra))\n"
      ],
      "metadata": {
        "colab": {
          "base_uri": "https://localhost:8080/"
        },
        "id": "qkFCZjkWfmOi",
        "outputId": "1b95f216-0713-4974-84c4-7131407d4522"
      },
      "execution_count": 27,
      "outputs": [
        {
          "output_type": "stream",
          "name": "stdout",
          "text": [
            "Vota em quem? 1\n",
            "Vota em quem? 1\n",
            "Vota em quem? 1\n",
            "Vota em quem? 1\n",
            "Vota em quem? 1\n",
            "Vota em quem? 2\n",
            "Vota em quem? 2\n",
            "Vota em quem? 2\n",
            "Vota em quem? 3\n",
            "Vota em quem? 6\n",
            "Vota em quem? 6\n",
            "Vota em quem? 5\n",
            "Vota em quem? 4\n",
            "Vota em quem? 1\n",
            "Vota em quem? 2\n",
            "Vota em quem? 1\n",
            "Vota em quem? 3\n",
            "Vota em quem? 6\n",
            "Vota em quem? 4\n",
            "Vota em quem? 5\n",
            "Vota em quem? 1\n",
            "cadidato 1 ganhou com 40 por cento de votos validos, 10 de votos nulos e 15 de votos em branco\n"
          ]
        }
      ]
    }
  ]
}