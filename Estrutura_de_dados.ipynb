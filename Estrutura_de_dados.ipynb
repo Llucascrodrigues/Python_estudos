{
  "nbformat": 4,
  "nbformat_minor": 0,
  "metadata": {
    "colab": {
      "provenance": [],
      "authorship_tag": "ABX9TyOUGt8kSLT20ztzXRWHRVYh",
      "include_colab_link": true
    },
    "kernelspec": {
      "name": "python3",
      "display_name": "Python 3"
    },
    "language_info": {
      "name": "python"
    }
  },
  "cells": [
    {
      "cell_type": "markdown",
      "metadata": {
        "id": "view-in-github",
        "colab_type": "text"
      },
      "source": [
        "<a href=\"https://colab.research.google.com/github/Llucascrodrigues/Python_estudos/blob/master/Estrutura_de_dados.ipynb\" target=\"_parent\"><img src=\"https://colab.research.google.com/assets/colab-badge.svg\" alt=\"Open In Colab\"/></a>"
      ]
    },
    {
      "cell_type": "markdown",
      "source": [
        "#Listas\n",
        "Armazenam varias informações [] e separamos por virgulas as informações"
      ],
      "metadata": {
        "id": "V5ZitFCWXsi9"
      }
    },
    {
      "cell_type": "code",
      "execution_count": null,
      "metadata": {
        "colab": {
          "base_uri": "https://localhost:8080/"
        },
        "id": "lLOnrEh-Xn8D",
        "outputId": "fc1caa78-3fa8-4f25-f18f-b7c482419bfe"
      },
      "outputs": [
        {
          "output_type": "execute_result",
          "data": {
            "text/plain": [
              "['Fabricio danial', 9.5, 9.0, 8.0, True]"
            ]
          },
          "metadata": {},
          "execution_count": 1
        }
      ],
      "source": [
        "lista=[\"Fabricio danial\", 9.5,9.0,8.0,True]\n",
        "lista"
      ]
    },
    {
      "cell_type": "code",
      "source": [
        "for elemento in lista:\n",
        "  print(elemento)"
      ],
      "metadata": {
        "colab": {
          "base_uri": "https://localhost:8080/"
        },
        "id": "v-ywQ8ikd_m2",
        "outputId": "1229bd14-2c37-48f8-e2dd-198c371ba63a"
      },
      "execution_count": null,
      "outputs": [
        {
          "output_type": "stream",
          "name": "stdout",
          "text": [
            "Fabricio danial\n",
            "9.5\n",
            "9.0\n",
            "8.0\n",
            "True\n"
          ]
        }
      ]
    },
    {
      "cell_type": "markdown",
      "source": [
        "##função LEN()\n",
        "Descobrimos a quantidade de elementos de um conjunto\n",
        "\n",
        "##partição\n",
        "podemos escolher partes especificas [1;3] queremos a segunda posição e a quarta\n",
        "\n",
        "##Função append()\n",
        "Adiciona um elemento no final da lista\n",
        "\n",
        "##função extend()\n",
        "Adiciona vários elementos ao final da lista\n",
        "\n",
        "##função remove()\n",
        "Remove um elemento especifico da lista\n",
        "lista.remove([})\n",
        "\n"
      ],
      "metadata": {
        "id": "H2P0a-OCe_wo"
      }
    },
    {
      "cell_type": "markdown",
      "source": [
        "#Dicionário\n",
        "Conseguimos categorizar com indices\n",
        "{chave:valor} cada par é separado por vírgula"
      ],
      "metadata": {
        "id": "wrVM8rZRf184"
      }
    },
    {
      "cell_type": "code",
      "source": [
        "dicionario={\"chave_1\":1,\n",
        "            \"chave_2\":2}\n",
        "dicionario"
      ],
      "metadata": {
        "colab": {
          "base_uri": "https://localhost:8080/"
        },
        "id": "0INs2oukgW5H",
        "outputId": "84b6ebec-e15f-42ee-92bf-431af7992b7e"
      },
      "execution_count": null,
      "outputs": [
        {
          "output_type": "execute_result",
          "data": {
            "text/plain": [
              "{'chave_1': 1, 'chave_2': 2}"
            ]
          },
          "metadata": {},
          "execution_count": 4
        }
      ]
    },
    {
      "cell_type": "markdown",
      "source": [
        "##aprofundamento em dicionário\n",
        "pop(\"especificamos\") remove um item\n",
        "\n",
        "items()  retorna uma lista de pares\n",
        "\n",
        "keys() retorna uma lista das chaves do dicionario\n",
        "\n",
        "values() retorna uma lista de valores do dicionario\n",
        "\n",
        "\n",
        "##Leitura com FOR\n",
        "\n"
      ],
      "metadata": {
        "id": "7UVwtbHWhx7w"
      }
    },
    {
      "cell_type": "code",
      "source": [
        "for chaves in cadastro.keys():\n",
        "  print(cadastro[chaves])"
      ],
      "metadata": {
        "colab": {
          "base_uri": "https://localhost:8080/",
          "height": 159
        },
        "id": "LYuyGqlnidTU",
        "outputId": "97f797eb-2c5a-4c01-e911-09a96018f0bc"
      },
      "execution_count": null,
      "outputs": [
        {
          "output_type": "error",
          "ename": "NameError",
          "evalue": "name 'cadastro' is not defined",
          "traceback": [
            "\u001b[0;31m---------------------------------------------------------------------------\u001b[0m",
            "\u001b[0;31mNameError\u001b[0m                                 Traceback (most recent call last)",
            "\u001b[0;32m<ipython-input-13-4c493b06d151>\u001b[0m in \u001b[0;36m<cell line: 1>\u001b[0;34m()\u001b[0m\n\u001b[0;32m----> 1\u001b[0;31m \u001b[0;32mfor\u001b[0m \u001b[0mchaves\u001b[0m \u001b[0;32min\u001b[0m \u001b[0mcadastro\u001b[0m\u001b[0;34m.\u001b[0m\u001b[0mkeys\u001b[0m\u001b[0;34m(\u001b[0m\u001b[0;34m)\u001b[0m\u001b[0;34m:\u001b[0m\u001b[0;34m\u001b[0m\u001b[0;34m\u001b[0m\u001b[0m\n\u001b[0m\u001b[1;32m      2\u001b[0m   \u001b[0mprint\u001b[0m\u001b[0;34m(\u001b[0m\u001b[0mcadastro\u001b[0m\u001b[0;34m[\u001b[0m\u001b[0mchaves\u001b[0m\u001b[0;34m]\u001b[0m\u001b[0;34m)\u001b[0m\u001b[0;34m\u001b[0m\u001b[0;34m\u001b[0m\u001b[0m\n",
            "\u001b[0;31mNameError\u001b[0m: name 'cadastro' is not defined"
          ]
        }
      ]
    },
    {
      "cell_type": "markdown",
      "source": [
        "#Aquecendo na programação\n",
        "\n",
        "https://wiki.python.org.br/ListaDeExercicios\n",
        "\n"
      ],
      "metadata": {
        "id": "yL-LwuCzi0Kw"
      }
    },
    {
      "cell_type": "markdown",
      "source": [
        "1) Faça um programa que tenha a seguinte lista contendo os valores de gastos de uma empresa de papel [2172.54, 3701.35, 3518.09, 3456.61, 3249.38, 2840.82, 3891.45, 3075.26, 2317.64, 3219.08]. Com esses valores, faça um programa que calcule a média de gastos. Dica: use as funções built-in sum() e len().\n"
      ],
      "metadata": {
        "id": "47JcRomikSpv"
      }
    },
    {
      "cell_type": "code",
      "source": [
        "l=[2172.54, 3701.35, 3518.09, 3456.61, 3249.38, 2840.82, 3891.45, 3075.26, 2317.64, 3219.08]\n",
        "media=sum(l)/len(l)\n",
        "media"
      ],
      "metadata": {
        "id": "nlQGHqhDk-rB",
        "colab": {
          "base_uri": "https://localhost:8080/"
        },
        "outputId": "d9124734-9968-41fa-dec5-04d77e70175f"
      },
      "execution_count": null,
      "outputs": [
        {
          "output_type": "execute_result",
          "data": {
            "text/plain": [
              "3144.222"
            ]
          },
          "metadata": {},
          "execution_count": 1
        }
      ]
    },
    {
      "cell_type": "markdown",
      "source": [
        "\n",
        "2) Com os mesmos dados da questão anterior, defina quantas compras foram realizadas acima de 3000 reais e calcule a porcentagem quanto ao total de compras.\n"
      ],
      "metadata": {
        "id": "0OvStUIHkgoJ"
      }
    },
    {
      "cell_type": "code",
      "source": [
        "l=[2172.54, 3701.35, 3518.09, 3456.61, 3249.38, 2840.82, 3891.45, 3075.26, 2317.64, 3219.08]\n",
        "cont=0\n",
        "for n in l:\n",
        "  if n>=3000:\n",
        "    cont=cont+1\n",
        "\n",
        "porce=(cont/len(l))*100\n",
        "\n",
        "print(\"foram vendidos %d acima de 3000, o que da %d por cento\"%(cont,porce))"
      ],
      "metadata": {
        "colab": {
          "base_uri": "https://localhost:8080/"
        },
        "id": "fk_suT49d_26",
        "outputId": "cf86a9da-d5d4-40b9-cd74-828ebf4541a2"
      },
      "execution_count": null,
      "outputs": [
        {
          "output_type": "stream",
          "name": "stdout",
          "text": [
            "foram vendidos 7 acima de 3000, o que da 70 por cento\n"
          ]
        }
      ]
    },
    {
      "cell_type": "markdown",
      "source": [
        "3) Faça um código que colete em uma lista 5 números inteiros quaisquer e imprima a lista. Exemplo: [1,4,7,2,4]."
      ],
      "metadata": {
        "id": "89rnqhcEk5VR"
      }
    },
    {
      "cell_type": "code",
      "source": [
        "lista=[]\n",
        "for i in range(0,5):\n",
        "  num=int(input(\"digite \"))\n",
        "  lista.append(num)\n",
        "\n",
        "lista"
      ],
      "metadata": {
        "colab": {
          "base_uri": "https://localhost:8080/"
        },
        "id": "g7_pRy0LfzOM",
        "outputId": "23965286-61c6-4b63-c625-52a48d43364c"
      },
      "execution_count": null,
      "outputs": [
        {
          "name": "stdout",
          "output_type": "stream",
          "text": [
            "digite 1\n",
            "digite 2\n",
            "digite 3\n",
            "digite 4\n",
            "digite 5\n"
          ]
        },
        {
          "output_type": "execute_result",
          "data": {
            "text/plain": [
              "[1, 2, 3, 4, 5]"
            ]
          },
          "metadata": {},
          "execution_count": 12
        }
      ]
    },
    {
      "cell_type": "markdown",
      "source": [
        "4) Colete novamente 5 inteiros e imprima a lista em ordem inversa à enviada."
      ],
      "metadata": {
        "id": "WjT04ugtk2lZ"
      }
    },
    {
      "cell_type": "code",
      "source": [
        "lista=[]\n",
        "#usei o fatiamento inverso [::-1]\n",
        "for i in range(0,5):\n",
        "  num=int(input(\"digite \"))\n",
        "  lista.append(num)\n",
        "\n",
        "lista_inv=lista[::-1]\n",
        "print(lista_inv)"
      ],
      "metadata": {
        "colab": {
          "base_uri": "https://localhost:8080/"
        },
        "id": "9nVI9UgDh3Xj",
        "outputId": "8d1e5f51-a851-417a-b82f-6a476ab5744b"
      },
      "execution_count": null,
      "outputs": [
        {
          "output_type": "stream",
          "name": "stdout",
          "text": [
            "digite 1\n",
            "digite 2\n",
            "digite 3\n",
            "digite 4\n",
            "digite 5\n",
            "[5, 4, 3, 2, 1]\n"
          ]
        }
      ]
    },
    {
      "cell_type": "markdown",
      "source": [
        "5) Faça um programa que, ao inserir um número qualquer, cria uma lista contendo todos os números primos entre 1 e o número digitado."
      ],
      "metadata": {
        "id": "sY-9oWRuk0QH"
      }
    },
    {
      "cell_type": "code",
      "source": [
        "num_pr=[1]\n",
        "valor=int(input(\"digite \"))\n",
        "\n",
        "for n in range(2,valor+1):\n",
        "  primo=True\n",
        "  for i in range(2,int(n**0.5)+1):\n",
        "    # Aqui varia até raiz do valor pois ganhamos tempo de calculo, testamos os divisores até a raiz.\n",
        "    if n%i==0:\n",
        "      #print(\"%d não primo\"%(n))\n",
        "      primo=False\n",
        "      break\n",
        "  if primo:\n",
        "    #print(\"%d primo\"%(n))\n",
        "    num_pr.append(n)\n",
        "    #break\n",
        "\n",
        "num_pr\n"
      ],
      "metadata": {
        "colab": {
          "base_uri": "https://localhost:8080/"
        },
        "id": "3XoDUhcEjPOl",
        "outputId": "8e102956-d76c-48b4-a248-160aded26165"
      },
      "execution_count": 45,
      "outputs": [
        {
          "name": "stdout",
          "output_type": "stream",
          "text": [
            "digite 11\n"
          ]
        },
        {
          "output_type": "execute_result",
          "data": {
            "text/plain": [
              "[1, 2, 3, 5, 7, 11]"
            ]
          },
          "metadata": {},
          "execution_count": 45
        }
      ]
    },
    {
      "cell_type": "markdown",
      "source": [
        "6) Escreva um programa que peça uma data informando o dia, mês e ano e determine se ela é válida para uma análise."
      ],
      "metadata": {
        "id": "LyYOO1YDkyNu"
      }
    },
    {
      "cell_type": "code",
      "source": [
        "dia=int(input(\"digite o dia \"))\n",
        "mes=int(input(\"digite o mes \"))\n",
        "ano=int(input(\"digite o ano \"))\n",
        "data=True\n",
        "if mes<1 or mes>12:\n",
        "  #Definimos o range de meses possiveis\n",
        "  data=False\n",
        "else:\n",
        "  #definimos em uma lista o limite de dias para cada mês\n",
        "  d_mes=[31, 28, 31, 30, 31, 30, 31, 31, 30, 31, 30, 31]\n",
        "\n",
        "  if mes==2:\n",
        "    #aqui alteramos o dia 28 para 29 caso o ano seja bissexto\n",
        "    if ano%4==0 and ano%100!=0 or ano%400==0:\n",
        "      d_mes[1]=29\n",
        "\n",
        "  if dia<1 or dia>d_mes[mes-1]:\n",
        "      data=False\n",
        "\n",
        "if data:\n",
        "  print(\"data valida\")\n",
        "else:\n",
        "  print(\"data inválida\")"
      ],
      "metadata": {
        "id": "0Z7iKl5etpsE",
        "colab": {
          "base_uri": "https://localhost:8080/"
        },
        "outputId": "beffb368-c448-470a-c49a-5ad1f8a61234"
      },
      "execution_count": 62,
      "outputs": [
        {
          "output_type": "stream",
          "name": "stdout",
          "text": [
            "digite o dia 29\n",
            "digite o mes 2\n",
            "digite o ano 2025\n",
            "data inválida\n"
          ]
        }
      ]
    },
    {
      "cell_type": "markdown",
      "source": [
        "#Momento dos projetos\n",
        "7) Para um estudo envolvendo o nível de multiplicação de bactérias em uma colônia, foi coletado o número de bactérias por dia (em milhares) e pode ser observado a seguir: [1.2, 2.1, 3.3, 5.0, 7.8, 11.3, 16.6, 25.1, 37.8, 56.9]. Tendo esses valores, faça um código que gere uma lista contendo o percentual de crescimento de bactérias por dia, comparando o número de bactérias em cada dia com o número de bactérias do dia anterior. Dica: para calcular o percentual de crescimento usamos a seguinte equação: 100 * (amostra_atual - amostra_passada) / (amostra_passada)."
      ],
      "metadata": {
        "id": "yG6vFGDkktfW"
      }
    },
    {
      "cell_type": "code",
      "source": [
        "l_bac=[1.2, 2.1, 3.3, 5.0, 7.8, 11.3, 16.6, 25.1, 37.8, 56.9]\n",
        "l_bac_porc=[]\n",
        "for i in range(len(l_bac)-1):\n",
        "  valor=((l_bac[i+1]-l_bac[i])/l_bac[i])*100\n",
        "  l_bac_porc.append(valor)\n",
        "\n",
        "l_bac_porc"
      ],
      "metadata": {
        "colab": {
          "base_uri": "https://localhost:8080/"
        },
        "id": "h7EJoZWLXNE0",
        "outputId": "3c04de78-285c-447b-eaf5-9b4ced454a11"
      },
      "execution_count": 79,
      "outputs": [
        {
          "output_type": "execute_result",
          "data": {
            "text/plain": [
              "[75.00000000000001,\n",
              " 57.14285714285713,\n",
              " 51.51515151515152,\n",
              " 55.99999999999999,\n",
              " 44.87179487179488,\n",
              " 46.902654867256636,\n",
              " 51.20481927710843,\n",
              " 50.59760956175297,\n",
              " 50.52910052910053]"
            ]
          },
          "metadata": {},
          "execution_count": 79
        }
      ]
    },
    {
      "cell_type": "markdown",
      "source": [
        "8) Para uma seleção de produtos alimentícios, precisamos separar o conjunto de IDs dados por números inteiros sabendo que os produtos com ID par são doces e os com ID ímpar são amargos. Monte um código que colete 10 IDs. Depois, calcule e mostre a quantidade de produtos doces e amargos."
      ],
      "metadata": {
        "id": "YFwnY5gukqcB"
      }
    },
    {
      "cell_type": "code",
      "source": [
        "l_id=[]\n",
        "l_tipo=[]\n",
        "for n in range(1,11):\n",
        "  l_id.append(int(input(\"digite o ID \")))\n",
        "for i in range(len(l_id)):\n",
        "  if l_id[i]%2==0:\n",
        "    l_tipo.append(\"Doce\")\n",
        "  else:\n",
        "    l_tipo.append(\"Salgado\")\n",
        "l_id\n",
        "l_tipo"
      ],
      "metadata": {
        "colab": {
          "base_uri": "https://localhost:8080/"
        },
        "id": "tq67fT2vZ4rd",
        "outputId": "fba7170a-97f8-40bb-bb0e-dc20bb74e198"
      },
      "execution_count": 83,
      "outputs": [
        {
          "name": "stdout",
          "output_type": "stream",
          "text": [
            "digite o ID 2\n",
            "digite o ID 2\n",
            "digite o ID 3\n",
            "digite o ID 2\n",
            "digite o ID 3\n",
            "digite o ID 3\n",
            "digite o ID 1\n",
            "digite o ID 2\n",
            "digite o ID 2\n",
            "digite o ID 2\n"
          ]
        },
        {
          "output_type": "execute_result",
          "data": {
            "text/plain": [
              "['Doce',\n",
              " 'Doce',\n",
              " 'Salgado',\n",
              " 'Doce',\n",
              " 'Salgado',\n",
              " 'Salgado',\n",
              " 'Salgado',\n",
              " 'Doce',\n",
              " 'Doce',\n",
              " 'Doce']"
            ]
          },
          "metadata": {},
          "execution_count": 83
        }
      ]
    },
    {
      "cell_type": "markdown",
      "source": [
        "9) Desenvolva um programa que informa a nota de um(a) aluno(a) de acordo com suas respostas. Ele deve pedir a resposta desse(a) aluno(a) para cada questão e é preciso verificar se a resposta foi igual ao gabarito. Cada questão vale um ponto e existem as alternativas A, B, C ou D."
      ],
      "metadata": {
        "id": "YCF1hIfnkm5s"
      }
    },
    {
      "cell_type": "code",
      "source": [
        "l_gab=[\"a\",\"b\",\"d\",\"c\"]\n",
        "l_res=[]\n",
        "cert=0\n",
        "erra=0\n",
        "for i in range(len(l_gab)):\n",
        "  l_res.append(input(\"Digite a resposta \"))\n",
        "\n",
        "for n in range(len(l_gab)):\n",
        "  if l_res[n]==l_gab[n]:\n",
        "    cert=cert+1\n",
        "  else:\n",
        "    erra=erra+1\n",
        "\n",
        "\n",
        "print(\"Você fez %d de pontos nessa prova\"%(cert))"
      ],
      "metadata": {
        "id": "cIPBzbMfkavQ",
        "colab": {
          "base_uri": "https://localhost:8080/"
        },
        "outputId": "21daf639-6cdc-42a9-c00d-75bf802c20f3"
      },
      "execution_count": 85,
      "outputs": [
        {
          "output_type": "stream",
          "name": "stdout",
          "text": [
            "Digite a resposta a\n",
            "Digite a resposta b\n",
            "Digite a resposta b\n",
            "Digite a resposta c\n",
            "Você fez 3 de pontos nessa prova\n"
          ]
        }
      ]
    }
  ]
}