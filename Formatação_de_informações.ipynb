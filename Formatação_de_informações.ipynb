{
  "nbformat": 4,
  "nbformat_minor": 0,
  "metadata": {
    "colab": {
      "provenance": [],
      "authorship_tag": "ABX9TyOj6j7pX7WJ5FR95NcLJrei",
      "include_colab_link": true
    },
    "kernelspec": {
      "name": "python3",
      "display_name": "Python 3"
    },
    "language_info": {
      "name": "python"
    }
  },
  "cells": [
    {
      "cell_type": "markdown",
      "metadata": {
        "id": "view-in-github",
        "colab_type": "text"
      },
      "source": [
        "<a href=\"https://colab.research.google.com/github/Llucascrodrigues/Python_estudos/blob/master/Formata%C3%A7%C3%A3o_de_informa%C3%A7%C3%B5es.ipynb\" target=\"_parent\"><img src=\"https://colab.research.google.com/assets/colab-badge.svg\" alt=\"Open In Colab\"/></a>"
      ]
    },
    {
      "cell_type": "markdown",
      "source": [
        "Conseguimos visualizar o resultado de variáveis dentro de strings, bem como imprimir o texto final em um print. Durante a aula, aprendemos a utilizar a formatação f-string (ou formatação de string), na qual colocamos um f antes da criação da string e as variáveis entre chaves {}. Exemplo:"
      ],
      "metadata": {
        "id": "-ak31Uc3oZyp"
      }
    },
    {
      "cell_type": "code",
      "execution_count": null,
      "metadata": {
        "id": "mRTEMQT2nzy1"
      },
      "outputs": [],
      "source": [
        "nome = \"Ana Maria\"\n",
        "idade = 17\n",
        "print(f\"O nome da aluna é {nome} e sua idade é {idade} anos.\")"
      ]
    },
    {
      "cell_type": "markdown",
      "source": [
        "Mas existem outras formatações, como o uso do operador de formatação de string ou da função .format().\n",
        "###Operador de formatação\n",
        "\n",
        "Esse operador de formatação permite a inserção de variáveis em pontos específicos na string com o operador %. Esse operador funciona como um marcador, informando onde o valor da variável vai ser exposto na string.O % precisa ser acompanhado de uma palavra-chave para cada tipo de variável que se deseja adicionar. Seguindo a tabela abaixo:\n",
        "\n",
        "\n",
        "---\n",
        "\n",
        "\n",
        "###String\n",
        "colocamos o marcador e a palavra chave %s\n",
        "###Inteiro\n",
        "%d\n",
        "###Float\n",
        "%f\n",
        "Vale ressaltar que podemos escolher quantas casas decimais vão ser impressas, colocando %.xf, sendo x o numero da casa. exemplo: %.2f, duas casas.\n",
        "###Caractere\n",
        "%c\n",
        "\n",
        "\n",
        "---\n",
        "\n",
        "Desse modo, para inserirmos uma variável, podemos adicionar o operador pela string no ponto desejado. Após o fim da string, adicionamos novamente o %, mas agora especificando a variável entre parênteses. Podemos observar essa estrutura no exemplo abaixo:\n"
      ],
      "metadata": {
        "id": "XZhVU5IOog6X"
      }
    },
    {
      "cell_type": "code",
      "source": [
        "nome_aluno=input(\"digite o nome \")\n",
        "idade=int(input(\"digite a idade \"))\n",
        "média=float(input(\"digite sua média \"))\n",
        "\n",
        "print('Nome do aluno é %s, ele tem %d anos e sua média é de %.1f'%(nome_aluno, idade, média))\n"
      ],
      "metadata": {
        "colab": {
          "base_uri": "https://localhost:8080/"
        },
        "id": "_NlzE_Hlol_-",
        "outputId": "1a49be47-d528-4ab3-f1f2-790b377ae3a1"
      },
      "execution_count": null,
      "outputs": [
        {
          "output_type": "stream",
          "name": "stdout",
          "text": [
            "digite o nome 8\n",
            "digite a idade 8\n",
            "digite sua média 9\n",
            "Nome do aluno é 8, ele tem 8 anos e sua média é de 9.0\n"
          ]
        }
      ]
    },
    {
      "cell_type": "markdown",
      "source": [
        "#Exercício\n",
        "###Coleta e amostragem de dados\n",
        "Crie um programa que solicite à pessoa usuária digitar seu nome, e imprima “Olá, [nome]!”.\n",
        "Crie um programa que solicite à pessoa usuária digitar seu nome e idade, e imprima “Olá, [nome], você tem [idade] anos.”.\n",
        "Crie um programa que solicite à pessoa usuária digitar seu nome, idade e altura em metros, e imprima “Olá, [nome], você tem [idade] anos e mede [altura] metros!”."
      ],
      "metadata": {
        "id": "s1jIqDaZr1NR"
      }
    },
    {
      "cell_type": "code",
      "source": [
        "nome=input(\"Digite seu nome \")\n",
        "age=int(input(\"digite sua idade \"))\n",
        "altura=float(input(\"digite sua altura \"))\n",
        "\n",
        "print(\"Olá %s \\n Você têm %d e %.3f de altura\" %(nome, age, altura))"
      ],
      "metadata": {
        "colab": {
          "base_uri": "https://localhost:8080/"
        },
        "id": "dUXilt66sBz4",
        "outputId": "d138c6bc-8742-4fd6-dbcb-a4ce7a9af94b"
      },
      "execution_count": null,
      "outputs": [
        {
          "output_type": "stream",
          "name": "stdout",
          "text": [
            "Digite seu nome nome\n",
            "digite sua idade 9\n",
            "digite sua altura 190\n",
            "Olá nome \n",
            " Você têm 9 e 190.000 de altura\n"
          ]
        }
      ]
    },
    {
      "cell_type": "code",
      "source": [],
      "metadata": {
        "colab": {
          "base_uri": "https://localhost:8080/"
        },
        "id": "hSt4zJFrtCKR",
        "outputId": "5388e63b-c962-4623-ca29-cf6674b54503"
      },
      "execution_count": null,
      "outputs": [
        {
          "output_type": "stream",
          "name": "stdout",
          "text": [
            "oi \\ tudo bao\n"
          ]
        }
      ]
    }
  ]
}